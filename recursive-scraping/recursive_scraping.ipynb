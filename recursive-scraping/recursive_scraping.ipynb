{
 "cells": [
  {
   "cell_type": "markdown",
   "metadata": {},
   "source": [
    "# Recursive Scraping with MultiOn\n",
    "\n",
    "In this recipe, we'll demonstrate how to scrape URLs recursively using MultiOn's Retrieve API. We'll be using `retrieve` to scrape Hackernews posts and comments."
   ]
  },
  {
   "cell_type": "markdown",
   "metadata": {},
   "source": [
    "## Step 1: Set up the environment\n",
    "\n",
    "First, let's install the required libraries and set up the MultiOn client."
   ]
  },
  {
   "cell_type": "code",
   "execution_count": null,
   "metadata": {},
   "outputs": [],
   "source": [
    "%pip install multion"
   ]
  },
  {
   "cell_type": "code",
   "execution_count": 3,
   "metadata": {},
   "outputs": [],
   "source": [
    "from multion.client import MultiOn\n",
    "\n",
    "client = MultiOn(\n",
    "    api_key=\"YOUR_API_KEY   \" # Get your API key from https://app.multion.ai/api-keys\n",
    ")"
   ]
  },
  {
   "cell_type": "markdown",
   "metadata": {},
   "source": [
    "## Step 2: Create the session\n",
    "\n",
    "Next, we will create an agent session. Just to be safe, we first close all active sessions on our account."
   ]
  },
  {
   "cell_type": "code",
   "execution_count": 4,
   "metadata": {},
   "outputs": [],
   "source": [
    "for session_id in client.sessions.list().session_ids:\n",
    "    client.sessions.close(session_id)"
   ]
  },
  {
   "cell_type": "code",
   "execution_count": 5,
   "metadata": {},
   "outputs": [],
   "source": [
    "create_response = client.sessions.create(\n",
    "    url=\"https://news.ycombinator.com/\",\n",
    "    local=False\n",
    ")\n",
    "\n",
    "session_id = create_response.session_id"
   ]
  },
  {
   "cell_type": "markdown",
   "metadata": {},
   "source": [
    "## Step 3: Scrape Hackernews posts\n",
    "\n",
    "We can start retrieving data with `retrieve`.\n",
    "\n",
    "We will simply retrieve all the posts on the current page, along with information like the post's URL, score and URL for the comments section. Conveniently, `retrieve` has an option to scroll down to the bottom while retrieving (`scroll_to_bottom`), which we will use to speed up the process. We can also enable `render_js` to allow images (if any) to render."
   ]
  },
  {
   "cell_type": "code",
   "execution_count": 6,
   "metadata": {},
   "outputs": [
    {
     "name": "stdout",
     "output_type": "stream",
     "text": [
      "Scraped page with 30 posts\n"
     ]
    }
   ],
   "source": [
    "scraped_posts = []\n",
    "\n",
    "retrieve_response = client.retrieve(\n",
    "    session_id=session_id,\n",
    "    cmd=\"Get all the posts with the following fields: title, url, score, and comments url.\",\n",
    "    fields=[\"title\", \"url\", \"score\", \"comments_url\"],\n",
    "    scroll_to_bottom=True,\n",
    "    render_js=True\n",
    ")\n",
    "scraped_posts.extend(retrieve_response.data)\n",
    "print(f\"Scraped page with {len(retrieve_response.data)} posts\")"
   ]
  },
  {
   "cell_type": "markdown",
   "metadata": {},
   "source": [
    "## Step 4: Recursively scrape comments for each post\n",
    "\n",
    "We want to recursively get the comments for each post; we need to call `retrieve` on each individual post page. To speed up the process, we can use `retrieve` in parallel for each URL we previously scraped.\n",
    "\n",
    "⚠️ We will be calling `retrieve` many times at once, beware of costs and rate limits!"
   ]
  },
  {
   "cell_type": "code",
   "execution_count": null,
   "metadata": {},
   "outputs": [],
   "source": [
    "from concurrent.futures import ThreadPoolExecutor\n",
    "\n",
    "def scrape_comments(post):\n",
    "    post_comments_response = client.retrieve(\n",
    "        url=post[\"comments_url\"],\n",
    "        cmd=\"Get all the comments, commenter names as array.\",\n",
    "        fields=[\"comment\", \"commenter\"],\n",
    "        max_items=5,\n",
    "        scroll_to_bottom=True,\n",
    "        render_js=True\n",
    "    )\n",
    "    post[\"comments\"] = post_comments_response.data\n",
    "    print(post['comments'])\n",
    "    return post\n",
    "\n",
    "scraped_posts = scraped_posts[:5]\n",
    "with ThreadPoolExecutor(max_workers=5) as executor:\n",
    "    scraped_posts = list(executor.map(scrape_comments, scraped_posts))\n",
    "\n",
    "print(f\"\\n\\nScraped detailed posts:\\n{scraped_posts}\")"
   ]
  }
 ],
 "metadata": {
  "kernelspec": {
   "display_name": ".venv",
   "language": "python",
   "name": "python3"
  },
  "language_info": {
   "codemirror_mode": {
    "name": "ipython",
    "version": 3
   },
   "file_extension": ".py",
   "mimetype": "text/x-python",
   "name": "python",
   "nbconvert_exporter": "python",
   "pygments_lexer": "ipython3",
   "version": "3.11.9"
  }
 },
 "nbformat": 4,
 "nbformat_minor": 2
}
