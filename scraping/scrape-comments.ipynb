{
 "cells": [
  {
   "cell_type": "markdown",
   "metadata": {},
   "source": [
    "# Scraping LinkedIn Comments using MultiOn API\n",
    "\n",
    "In this recipe, we look at scraping LinkedIn comments from a post url. This example uses the API endpoints directly, rather than the SDK. \n",
    "\n",
    "## Prerequisites\n",
    "\n",
    "- Python 3.6 or higher\n",
    "- `requests` library\n",
    "- MultiOn API key"
   ]
  },
  {
   "cell_type": "markdown",
   "metadata": {},
   "source": [
    "## Step 1\n",
    "\n",
    "1. Install the required library:\n",
    "\n",
    "   ```\n",
    "   pip install requests\n",
    "   ```\n",
    "\n",
    "2. Get your MultiOn API Key: https://app.multion.ai/api-keys"
   ]
  },
  {
   "cell_type": "code",
   "execution_count": null,
   "metadata": {},
   "outputs": [],
   "source": [
    "%pip install requests"
   ]
  },
  {
   "cell_type": "markdown",
   "metadata": {},
   "source": [
    "\n",
    "## Step 2\n",
    "\n",
    "Replace `your_multion_api_key_here` with your actual Multion API key:\n",
    "\n",
    "   ```python\n",
    "   API_KEY = \"your_multion_api_key_here\"\n",
    "   ```"
   ]
  },
  {
   "cell_type": "code",
   "execution_count": null,
   "metadata": {},
   "outputs": [],
   "source": [
    "\n",
    "import requests\n",
    "import json\n",
    "import logging\n",
    "import time\n",
    "\n",
    "# Set up logging\n",
    "logging.basicConfig(level=logging.INFO, format='%(asctime)s - %(levelname)s - %(message)s')\n",
    "\n",
    "# TODO: Replace with your actual Multion API key\n",
    "API_KEY = \"your_multion_api_key_here\""
   ]
  },
  {
   "cell_type": "markdown",
   "metadata": {},
   "source": [
    "\n",
    "## Step 3\n",
    "\n",
    "Run the next 2 cells containing:\n",
    "   - MultiOn API connection definitions\n",
    "   - Use case-specific functions for LinkedIn comment scraping"
   ]
  },
  {
   "cell_type": "code",
   "execution_count": null,
   "metadata": {},
   "outputs": [],
   "source": [
    "## MULTION API FUNCTIONS\n",
    "\n",
    "# Create a session\n",
    "def create_session(url):\n",
    "    endpoint = \"https://api.multion.ai/v1/web/session/\"\n",
    "    headers = {\n",
    "        \"X_MULTION_API_KEY\": API_KEY,\n",
    "        \"Content-Type\": \"application/json\"\n",
    "    }\n",
    "    payload = {\n",
    "        \"url\": url,\n",
    "        \"local\": False, # Set to True if you want to run the agent locally\n",
    "        \"include_screenshot\": True,  # Change this to True\n",
    "        \"optional_params\": {\n",
    "            \"source\": \"playground\"\n",
    "        }\n",
    "    }\n",
    "    response = requests.post(endpoint, json=payload, headers=headers)\n",
    "    return response.json()\n",
    "\n",
    "# Retrieve data from the Multion API\n",
    "def retrieve(url, cmd, session_id, fields=None, max_items=100, timeout=60):\n",
    "    logging.info(f\"Retrieving data from URL: {url}\")\n",
    "    endpoint = \"https://api.multion.ai/v1/web/retrieve\"\n",
    "    headers = {\n",
    "        \"X_MULTION_API_KEY\": API_KEY,\n",
    "        \"Content-Type\": \"application/json\"\n",
    "    }\n",
    "    payload = {\n",
    "        \"url\": url,\n",
    "        \"cmd\": cmd,\n",
    "        \"session_id\": session_id,\n",
    "        \"local\": False, # Set to True if you want to run the agent locally\n",
    "        \"format\": \"json\",\n",
    "        \"max_items\": max_items,\n",
    "        \"full_page\": True,\n",
    "        \"render_js\": True,\n",
    "        \"scroll_to_bottom\": True,\n",
    "        \"mode\": \"standard\",\n",
    "        \"optional_params\": {\n",
    "            \"source\": \"playground\"\n",
    "        }\n",
    "    }\n",
    "    if fields:\n",
    "        payload[\"fields\"] = fields\n",
    "\n",
    "    logging.info(\"Sending request to Multion API\")\n",
    "    try:\n",
    "        response = requests.post(endpoint, json=payload, headers=headers, timeout=timeout)\n",
    "        logging.info(f\"Received response with status code: {response.status_code}\")\n",
    "        response.raise_for_status()\n",
    "        return response.json()\n",
    "    except Exception as e:\n",
    "        logging.error(f\"An error occurred: {str(e)}\")\n",
    "        return {\"status\": \"ERROR\", \"message\": str(e)}"
   ]
  },
  {
   "cell_type": "code",
   "execution_count": null,
   "metadata": {},
   "outputs": [],
   "source": [
    "## SPECIFIC FUNCTIONS FOR THIS USE CASE\n",
    "\n",
    "# Extract comments from a LinkedIn post\n",
    "def extract_linkedin_comments(post_url):\n",
    "    logging.info(f\"Extracting comments from LinkedIn post: {post_url}\")\n",
    "    \n",
    "    # Create a session\n",
    "    session = create_session(post_url)\n",
    "    if 'session_id' not in session:\n",
    "        logging.error(\"Failed to create session\")\n",
    "        return []\n",
    "    \n",
    "    session_id = session['session_id']\n",
    "    logging.info(f\"Session created with ID: {session_id}\")\n",
    "    \n",
    "    # Define the command to extract comments\n",
    "    cmd = \"\"\"\n",
    "    Extract all comments from the LinkedIn post.\n",
    "    For each comment, provide the following information:\n",
    "    1. Commenter's name\n",
    "    2. Commenter's headline (if available)\n",
    "    3. Comment text\n",
    "    4. Timestamp of the comment\n",
    "    \"\"\"\n",
    "    \n",
    "    fields = [\"commenter_name\", \"commenter_headline\", \"comment_text\", \"timestamp\"]\n",
    "    \n",
    "    # Use the session_id in the retrieve call\n",
    "    response = perform_action_with_retry(lambda: retrieve(post_url, cmd, session_id, fields))\n",
    "    \n",
    "    if response.get('status') == 'DONE':\n",
    "        logging.info(f\"Successfully extracted {len(response.get('data', []))} comments\")\n",
    "        return response.get('data', [])\n",
    "    else:\n",
    "        logging.error(f\"Failed to extract comments. Status: {response.get('status')}\")\n",
    "        return []\n",
    "\n",
    "# Retry mechanism to handle errors\n",
    "def perform_action_with_retry(action, max_retries=3, delay=5):\n",
    "    for attempt in range(max_retries):\n",
    "        result = action()\n",
    "        if result.get('status') != 'ERROR':\n",
    "            return result\n",
    "        logging.warning(f\"Attempt {attempt + 1} failed. Retrying in {delay} seconds...\")\n",
    "        time.sleep(delay)\n",
    "    logging.error(f\"Action failed after {max_retries} attempts.\")\n",
    "    return result\n",
    "\n"
   ]
  },
  {
   "cell_type": "markdown",
   "metadata": {},
   "source": [
    "## Step 4\n",
    "\n",
    "Set the LinkedIn post URL you want to scrape:\n",
    "\n",
    "   ```python\n",
    "   linkedin_post_url = \"https://www.linkedin.com/feed/update/urn:li:activity:7238971183105241091/\"\n",
    "   ```\n",
    "    \n",
    "    Replace the URL with the actual LinkedIn post you want to scrape."
   ]
  },
  {
   "cell_type": "code",
   "execution_count": null,
   "metadata": {},
   "outputs": [],
   "source": [
    " # TODO: Replace with the actual LinkedIn post URL\n",
    "linkedin_post_url = \"https://www.linkedin.com/feed/update/urn:li:activity:7238971183105241091/\""
   ]
  },
  {
   "cell_type": "markdown",
   "metadata": {},
   "source": [
    "## Step 5\n",
    "\n",
    "Run the main execution cell, which will extract the comments from the LinkedIn post and print it"
   ]
  },
  {
   "cell_type": "code",
   "execution_count": null,
   "metadata": {},
   "outputs": [],
   "source": [
    "## MAIN EXECUTION \n",
    "\n",
    "if __name__ == \"__main__\":\n",
    "   \n",
    "    logging.info(\"Starting comment extraction process\")\n",
    "    comments = extract_linkedin_comments(linkedin_post_url)\n",
    "    \n",
    "    # Print the comments as JSON\n",
    "    print(json.dumps(comments, ensure_ascii=False, indent=2))\n",
    "    \n",
    "    logging.info(f\"Extracted {len(comments)} comments\")\n",
    "    logging.info(\"Comment extraction process completed\")"
   ]
  },
  {
   "cell_type": "markdown",
   "metadata": {},
   "source": [
    "\n",
    "\n",
    "## Output\n",
    "\n",
    "The json will contain an array of comment objects, each with the following structure:\n",
    "\n",
    "```\n",
    "{\n",
    "  \"commenter_name\": \"John Doe\",\n",
    "  \"commenter_headline\": \"Software Engineer\",\n",
    "  \"comment_text\": \"Great post!\",\n",
    "  \"timestamp\": \"2023-04-15T14:30:00Z\"\n",
    "}\n",
    "```\n",
    "\n",
    "## Customization\n",
    "\n",
    "You can modify the `cmd` variable in the `extract_linkedin_comments()` function to change what data is extracted from each comment.\n",
    "\n",
    "## Error Handling\n",
    "\n",
    "The script includes a retry mechanism for API calls. If you encounter persistent errors, check your API key and internet connection.\n",
    "\n",
    "## Note\n",
    "\n",
    "Be respectful of LinkedIn's terms of service and do not use this script for excessive scraping or any prohibited activities."
   ]
  }
 ],
 "metadata": {
  "kernelspec": {
   "display_name": ".venv",
   "language": "python",
   "name": "python3"
  },
  "language_info": {
   "codemirror_mode": {
    "name": "ipython",
    "version": 3
   },
   "file_extension": ".py",
   "mimetype": "text/x-python",
   "name": "python",
   "nbconvert_exporter": "python",
   "pygments_lexer": "ipython3",
   "version": "3.12.5"
  }
 },
 "nbformat": 4,
 "nbformat_minor": 2
}
